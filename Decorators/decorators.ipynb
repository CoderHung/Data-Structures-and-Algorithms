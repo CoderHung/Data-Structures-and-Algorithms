{
 "cells": [
  {
   "cell_type": "code",
   "execution_count": 11,
   "id": "71f94f21",
   "metadata": {},
   "outputs": [],
   "source": [
    "import functools\n",
    "\n",
    "def log(func):\n",
    "    @functools.wraps(func)\n",
    "    def wrapper(*args, **kwargs):\n",
    "        print(f\"[LOG] Calling {func.__name__} with args={args}, kwargs={kwargs}\")\n",
    "        result = func(*args, **kwargs)\n",
    "        print(f\"[LOG] {func.__name__} returned {result}\")\n",
    "        return result\n",
    "    return wrapper\n",
    "\n",
    "\n",
    "def repeat(n):\n",
    "    def decorator(func):\n",
    "        @functools.wraps(func)\n",
    "        def wrapper(*args, **kwargs):\n",
    "            result = None\n",
    "            for i in range(n):\n",
    "                print(f\"[REPEAT] Run #{i + 1}\")\n",
    "                result = func(*args, **kwargs)\n",
    "                print()\n",
    "            return result  # Return last result\n",
    "        return wrapper\n",
    "    return decorator\n"
   ]
  },
  {
   "cell_type": "code",
   "execution_count": 13,
   "id": "a46d401b",
   "metadata": {},
   "outputs": [
    {
     "name": "stdout",
     "output_type": "stream",
     "text": [
      "[REPEAT] Run #1\n",
      "Go!\n",
      "\n",
      "[REPEAT] Run #2\n",
      "Go!\n",
      "\n",
      "[REPEAT] Run #3\n",
      "Go!\n",
      "\n"
     ]
    }
   ],
   "source": [
    "@repeat(3)\n",
    "def cheer():\n",
    "    print(\"Go!\")\n",
    "\n",
    "cheer()"
   ]
  },
  {
   "cell_type": "code",
   "execution_count": 12,
   "id": "0ea579d2",
   "metadata": {},
   "outputs": [
    {
     "name": "stdout",
     "output_type": "stream",
     "text": [
      "[REPEAT] Run #1\n",
      "[LOG] Calling greet with args=('Alex',), kwargs={'msg': 'Hi'}\n",
      "Hi, Alex!\n",
      "[LOG] greet returned Hi, Alex\n",
      "\n",
      "[REPEAT] Run #2\n",
      "[LOG] Calling greet with args=('Alex',), kwargs={'msg': 'Hi'}\n",
      "Hi, Alex!\n",
      "[LOG] greet returned Hi, Alex\n",
      "\n"
     ]
    },
    {
     "data": {
      "text/plain": [
       "'Hi, Alex'"
      ]
     },
     "execution_count": 12,
     "metadata": {},
     "output_type": "execute_result"
    }
   ],
   "source": [
    "@repeat(2)\n",
    "@log\n",
    "def greet(name, msg=\"Hello\"):\n",
    "    print(f\"{msg}, {name}!\")\n",
    "    return f\"{msg}, {name}\"\n",
    "\n",
    "greet(\"Alex\", msg=\"Hi\")\n"
   ]
  },
  {
   "cell_type": "code",
   "execution_count": 16,
   "id": "a04c076f",
   "metadata": {},
   "outputs": [],
   "source": [
    "def taggable(default_tag=\"Generic\"):\n",
    "    def decorator(cls):\n",
    "        cls.tag = default_tag\n",
    "\n",
    "        def set_tag(cls, new_tag):\n",
    "            print(f\"Changing tag from '{cls.tag}' to '{new_tag}'\")\n",
    "            cls.tag = new_tag\n",
    "\n",
    "        cls.set_tag = classmethod(set_tag)\n",
    "        return cls\n",
    "    return decorator\n"
   ]
  },
  {
   "cell_type": "code",
   "execution_count": 17,
   "id": "f413d4d4",
   "metadata": {},
   "outputs": [
    {
     "name": "stdout",
     "output_type": "stream",
     "text": [
      "Electronic\n",
      "Furniture\n",
      "Changing tag from 'Electronic' to 'Gadget'\n",
      "Gadget\n"
     ]
    }
   ],
   "source": [
    "@taggable(\"Electronic\")\n",
    "class Product:\n",
    "    pass\n",
    "\n",
    "@taggable(\"Furniture\")\n",
    "class Table:\n",
    "    pass\n",
    "\n",
    "print(Product.tag)  # Electronic\n",
    "print(Table.tag)    # Furniture\n",
    "\n",
    "# Update tag at runtime\n",
    "Product.set_tag(\"Gadget\")\n",
    "print(Product.tag)  # Gadget\n"
   ]
  },
  {
   "cell_type": "code",
   "execution_count": 18,
   "id": "e3d7b6d7",
   "metadata": {},
   "outputs": [
    {
     "name": "stdout",
     "output_type": "stream",
     "text": [
      "Call #1\n",
      "Pong!\n",
      "Call #2\n",
      "Pong!\n"
     ]
    }
   ],
   "source": [
    "def counter(func):\n",
    "    count = 0\n",
    "    def wrapper(*args, **kwargs):\n",
    "        nonlocal count\n",
    "        count += 1\n",
    "        print(f\"Call #{count}\")\n",
    "        return func(*args, **kwargs)\n",
    "    return wrapper\n",
    "\n",
    "@counter\n",
    "def ping():\n",
    "    print(\"Pong!\")\n",
    "\n",
    "ping()\n",
    "ping()\n"
   ]
  },
  {
   "cell_type": "code",
   "execution_count": 19,
   "id": "0ab64230",
   "metadata": {},
   "outputs": [
    {
     "name": "stdout",
     "output_type": "stream",
     "text": [
      "Call #1\n",
      "Hello!\n",
      "Call #2\n",
      "Hello!\n"
     ]
    }
   ],
   "source": [
    "class CallTracker:\n",
    "    def __init__(self, func):\n",
    "        self.func = func\n",
    "        self.calls = 0\n",
    "\n",
    "    def __call__(self, *args, **kwargs):\n",
    "        self.calls += 1\n",
    "        print(f\"Call #{self.calls}\")\n",
    "        return self.func(*args, **kwargs)\n",
    "\n",
    "@CallTracker\n",
    "def hello():\n",
    "    print(\"Hello!\")\n",
    "\n",
    "hello()\n",
    "hello()\n",
    "\n"
   ]
  }
 ],
 "metadata": {
  "kernelspec": {
   "display_name": "Python 3",
   "language": "python",
   "name": "python3"
  },
  "language_info": {
   "codemirror_mode": {
    "name": "ipython",
    "version": 3
   },
   "file_extension": ".py",
   "mimetype": "text/x-python",
   "name": "python",
   "nbconvert_exporter": "python",
   "pygments_lexer": "ipython3",
   "version": "3.13.5"
  }
 },
 "nbformat": 4,
 "nbformat_minor": 5
}
