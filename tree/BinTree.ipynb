{
  "nbformat": 4,
  "nbformat_minor": 0,
  "metadata": {
    "colab": {
      "provenance": []
    },
    "kernelspec": {
      "name": "python3",
      "display_name": "Python 3"
    },
    "language_info": {
      "name": "python"
    }
  },
  "cells": [
    {
      "cell_type": "markdown",
      "source": [
        "# implementation"
      ],
      "metadata": {
        "id": "LkkrrKomx3f1"
      }
    },
    {
      "cell_type": "code",
      "execution_count": 14,
      "metadata": {
        "id": "nSS-K6ydxx5_"
      },
      "outputs": [],
      "source": [
        "import math\n",
        "\n",
        "class BinaryTree:\n",
        "    SIZE = 100\n",
        "\n",
        "    def __init__(self):\n",
        "        self.tree = [-1] * self.SIZE\n",
        "\n",
        "    def insert(self, val, index=0):\n",
        "        if index >= self.SIZE:\n",
        "            print(\"Index out of bounds\")\n",
        "            return\n",
        "        if self.tree[index] == -1:\n",
        "            self.tree[index] = val\n",
        "        elif val < self.tree[index]:\n",
        "            self.insert(val, 2 * index + 1)\n",
        "        else:\n",
        "            self.insert(val, 2 * index + 2)\n",
        "\n",
        "    def inorder(self, index=0):\n",
        "        if index >= self.SIZE or self.tree[index] == -1:\n",
        "            return\n",
        "        self.inorder(2 * index + 1)\n",
        "        print(self.tree[index], end=' ')\n",
        "        self.inorder(2 * index + 2)\n",
        "\n",
        "    def preorder(self, index=0):\n",
        "        if index >= self.SIZE or self.tree[index] == -1:\n",
        "            return\n",
        "        print(self.tree[index], end=' ')\n",
        "        self.preorder(2 * index + 1)\n",
        "        self.preorder(2 * index + 2)\n",
        "\n",
        "    def postorder(self, index=0):\n",
        "        if index >= self.SIZE or self.tree[index] == -1:\n",
        "            return\n",
        "        self.postorder(2 * index + 1)\n",
        "        self.postorder(2 * index + 2)\n",
        "        print(self.tree[index], end=' ')\n",
        "\n",
        "    def get_height(self):\n",
        "        max_index = -1\n",
        "        for i in range(self.SIZE):\n",
        "            if self.tree[i] != -1:\n",
        "                max_index = i\n",
        "        return 0 if max_index == -1 else math.floor(math.log2(max_index + 1)) + 1\n",
        "\n",
        "    def print_tree(self):\n",
        "        height = self.get_height()\n",
        "        max_nodes = 2 ** height\n",
        "        max_width = max_nodes * 2\n",
        "\n",
        "        for level in range(height):\n",
        "            nodes = 2 ** level\n",
        "            first_index = nodes - 1\n",
        "            spacing = max_width // nodes\n",
        "\n",
        "            # Print spacing before first node\n",
        "            print(' ' * (spacing // 2), end='')\n",
        "\n",
        "            for i in range(nodes):\n",
        "                idx = first_index + i\n",
        "                if idx < self.SIZE and self.tree[idx] != -1:\n",
        "                    print(f\"{self.tree[idx]:2}\", end='')\n",
        "                else:\n",
        "                    print(\"  \", end='')\n",
        "\n",
        "                print(' ' * (spacing - 2), end='')\n",
        "\n",
        "            print(\"\\n\")"
      ]
    },
    {
      "cell_type": "markdown",
      "source": [
        "# test cases"
      ],
      "metadata": {
        "id": "pFN7HtYnx-9H"
      }
    },
    {
      "cell_type": "markdown",
      "source": [
        "| Operation      | Time Complexity | Notes                                                              |\n",
        "| -------------- | --------------- | ------------------------------------------------------------------ |\n",
        "| `insert(val)`  | **O(h)**        | `h = log₂(n)` for balanced tree, but up to **O(n)** in worst case. |\n",
        "| `inorder()`    | **O(n)**        | Visits every node once                                             |\n",
        "| `preorder()`   | **O(n)**        | Visits every node once                                             |\n",
        "| `postorder()`  | **O(n)**        | Visits every node once                                             |\n",
        "| `print_tree()` | **O(n)**        | Loops over all height levels and positions (even empty ones)       |\n",
        "| `get_height()` | **O(n)**        | Scans entire array to find deepest filled index                    |\n",
        "\n"
      ],
      "metadata": {
        "id": "MhlNw8bJJ6XY"
      }
    },
    {
      "cell_type": "code",
      "source": [
        "tree = BinaryTree()\n",
        "tree.insert(50)\n",
        "tree.insert(30)\n",
        "tree.insert(70)\n",
        "tree.insert(20)\n",
        "tree.insert(40)\n",
        "tree.insert(60)\n",
        "tree.insert(80)\n",
        "\n",
        "tree.print_tree()"
      ],
      "metadata": {
        "colab": {
          "base_uri": "https://localhost:8080/"
        },
        "id": "6UzPk8_wJd2Y",
        "outputId": "e1bd4247-30f7-48bc-8dac-f36cd8dab4eb"
      },
      "execution_count": 15,
      "outputs": [
        {
          "output_type": "stream",
          "name": "stdout",
          "text": [
            "        50              \n",
            "\n",
            "    30      70      \n",
            "\n",
            "  20  40  60  80  \n",
            "\n"
          ]
        }
      ]
    }
  ]
}