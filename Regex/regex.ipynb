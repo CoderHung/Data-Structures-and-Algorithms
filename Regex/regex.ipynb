{
 "cells": [
  {
   "cell_type": "code",
   "execution_count": null,
   "id": "72920f89",
   "metadata": {},
   "outputs": [
    {
     "name": "stdout",
     "output_type": "stream",
     "text": [
      "['support@example.com', 'sales@company.org']\n"
     ]
    }
   ],
   "source": [
    "import re\n",
    "#extract emails\n",
    "text = \"Contact us at support@example.com or sales@company.org for more info.\"\n",
    "\n",
    "pattern = r\"[a-zA-Z0-9._%+-]+@[a-zA-Z0-9.-]+\\.[a-zA-Z]{2,}\"\n",
    "\n",
    "emails = re.findall(pattern, text)\n",
    "print(emails)\n"
   ]
  },
  {
   "cell_type": "code",
   "execution_count": null,
   "id": "7747c9d7",
   "metadata": {},
   "outputs": [
    {
     "name": "stdout",
     "output_type": "stream",
     "text": [
      "['12', '30']\n"
     ]
    }
   ],
   "source": [
    "#get all numbers\n",
    "text = \"There are 12 apples and 30 bananas.\"\n",
    "numbers = re.findall(r\"\\d+\", text)\n",
    "print(numbers)  # ['12', '30']\n"
   ]
  },
  {
   "cell_type": "code",
   "execution_count": null,
   "id": "adde579b",
   "metadata": {},
   "outputs": [
    {
     "name": "stdout",
     "output_type": "stream",
     "text": [
      "First-Name-Last-Name\n"
     ]
    }
   ],
   "source": [
    "#replace spaces with hyphens\n",
    "text = \"First Name    Last Name\"\n",
    "cleaned = re.sub(r\"\\s+\", \"-\", text)\n",
    "print(cleaned)  # 'First-Name-Last-Name'"
   ]
  },
  {
   "cell_type": "code",
   "execution_count": null,
   "id": "14f90073",
   "metadata": {},
   "outputs": [
    {
     "name": "stdout",
     "output_type": "stream",
     "text": [
      "['Hello', 'How are you', \"I'm fine\", '']\n"
     ]
    }
   ],
   "source": [
    "#split sentence by punctuation\n",
    "sentence = \"Hello! How are you? I'm fine.\"\n",
    "parts = re.split(r\"[.!?]\\s*\", sentence)\n",
    "print(parts)  # ['Hello', 'How are you', \"I'm fine\", '']"
   ]
  },
  {
   "cell_type": "code",
   "execution_count": null,
   "id": "f1730242",
   "metadata": {},
   "outputs": [
    {
     "name": "stdout",
     "output_type": "stream",
     "text": [
      "['Python', 'Languages']\n"
     ]
    }
   ],
   "source": [
    "#find capitalized words\n",
    "text = \"Python and JavaScript are programming Languages.\"\n",
    "cap_words = re.findall(r\"\\b[A-Z][a-z]*\\b\", text)\n",
    "print(cap_words)  # ['Python', 'JavaScript', 'Languages']\n"
   ]
  }
 ],
 "metadata": {
  "kernelspec": {
   "display_name": "Python 3",
   "language": "python",
   "name": "python3"
  },
  "language_info": {
   "codemirror_mode": {
    "name": "ipython",
    "version": 3
   },
   "file_extension": ".py",
   "mimetype": "text/x-python",
   "name": "python",
   "nbconvert_exporter": "python",
   "pygments_lexer": "ipython3",
   "version": "3.13.5"
  }
 },
 "nbformat": 4,
 "nbformat_minor": 5
}
