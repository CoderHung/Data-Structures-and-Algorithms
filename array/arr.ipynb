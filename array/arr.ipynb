{
  "nbformat": 4,
  "nbformat_minor": 0,
  "metadata": {
    "colab": {
      "provenance": []
    },
    "kernelspec": {
      "name": "python3",
      "display_name": "Python 3"
    },
    "language_info": {
      "name": "python"
    }
  },
  "cells": [
    {
      "cell_type": "markdown",
      "source": [
        "# implementation"
      ],
      "metadata": {
        "id": "LkkrrKomx3f1"
      }
    },
    {
      "cell_type": "code",
      "execution_count": 1,
      "metadata": {
        "colab": {
          "base_uri": "https://localhost:8080/"
        },
        "id": "nSS-K6ydxx5_",
        "outputId": "1e435639-7cef-44f0-9485-77b9e726a0f5"
      },
      "outputs": [
        {
          "output_type": "stream",
          "name": "stdout",
          "text": [
            "6\n",
            "<class 'list'>\n"
          ]
        }
      ],
      "source": [
        "#in python, lists act like dynamic arrays and they can store different data types in an single instance\n",
        "my_list = [42, \"hello\", 3.14, True, [1, 2], {\"key\": \"value\"}]\n",
        "print(len(my_list))\n",
        "print(type(my_list))"
      ]
    },
    {
      "cell_type": "code",
      "source": [
        "#elements are accessed by their index, indexs start at 0 and end at n-1 with n being the number of elements\n",
        "print(my_list[0])\n",
        "print(my_list[5])"
      ],
      "metadata": {
        "colab": {
          "base_uri": "https://localhost:8080/"
        },
        "id": "7zSYka8jz5vB",
        "outputId": "76b3fe66-20e9-4135-b839-688c394a820d"
      },
      "execution_count": 2,
      "outputs": [
        {
          "output_type": "stream",
          "name": "stdout",
          "text": [
            "42\n",
            "{'key': 'value'}\n"
          ]
        }
      ]
    },
    {
      "cell_type": "markdown",
      "source": [
        "# test cases"
      ],
      "metadata": {
        "id": "pFN7HtYnx-9H"
      }
    },
    {
      "cell_type": "markdown",
      "source": [
        "the time complexity of array operations are:\n",
        "\n",
        "Look-up/Access - O(1)\n",
        "\n",
        "Push/Pop - O(1)*\n",
        "\n",
        "Insert - O(n)\n",
        "\n",
        "Delete - O(n)"
      ],
      "metadata": {
        "id": "R0Tcu4Q90jR5"
      }
    },
    {
      "cell_type": "code",
      "source": [
        "import time\n",
        "\n",
        "def timed(func):\n",
        "    def wrapper(*args, **kwargs):\n",
        "        start = time.time()\n",
        "        func(*args, **kwargs)\n",
        "        end = time.time()\n",
        "        print(f\"{func.__name__}: {(end - start)*1000:.3f} ms\")\n",
        "    return wrapper\n",
        "arr1 = list(range(1_000_000))\n",
        "arr2 = list(range(10_000_000))\n",
        "arr3 = list(range(100_000_000))"
      ],
      "metadata": {
        "id": "7idSUdMOyGG9"
      },
      "execution_count": 7,
      "outputs": []
    },
    {
      "cell_type": "code",
      "source": [
        "@timed\n",
        "def access_test(arr):\n",
        "    n = len(arr)\n",
        "    _ = arr[int(n/2)]\n",
        "\n",
        "@timed\n",
        "def insert_test(arr):\n",
        "    arr.insert(0, -1)\n",
        "\n",
        "@timed\n",
        "def delete_test(arr):\n",
        "    n = len(arr)\n",
        "    del arr[int(n/2)]\n"
      ],
      "metadata": {
        "id": "Tv9pUVGH1hJX"
      },
      "execution_count": 15,
      "outputs": []
    },
    {
      "cell_type": "code",
      "source": [
        "access_test(arr1)\n",
        "insert_test(arr1)\n",
        "delete_test(arr1)\n"
      ],
      "metadata": {
        "colab": {
          "base_uri": "https://localhost:8080/"
        },
        "id": "DOzupR1x1jm3",
        "outputId": "1ee00690-6723-45b0-85db-5934db1df902"
      },
      "execution_count": 16,
      "outputs": [
        {
          "output_type": "stream",
          "name": "stdout",
          "text": [
            "access_test: 0.004 ms\n",
            "insert_test: 1.174 ms\n",
            "delete_test: 0.370 ms\n"
          ]
        }
      ]
    },
    {
      "cell_type": "code",
      "source": [
        "access_test(arr2)\n",
        "insert_test(arr2)\n",
        "delete_test(arr2)"
      ],
      "metadata": {
        "colab": {
          "base_uri": "https://localhost:8080/"
        },
        "id": "3RMHMkMi1y2u",
        "outputId": "2cafba91-951d-4516-810d-33b508719f7d"
      },
      "execution_count": 17,
      "outputs": [
        {
          "output_type": "stream",
          "name": "stdout",
          "text": [
            "access_test: 0.004 ms\n",
            "insert_test: 10.557 ms\n",
            "delete_test: 4.801 ms\n"
          ]
        }
      ]
    },
    {
      "cell_type": "code",
      "source": [
        "access_test(arr3)\n",
        "insert_test(arr3)\n",
        "delete_test(arr3)"
      ],
      "metadata": {
        "colab": {
          "base_uri": "https://localhost:8080/"
        },
        "id": "WtOO0dG62QSk",
        "outputId": "c4e1f8ce-4647-4eb8-b02c-1e2ef0955df5"
      },
      "execution_count": 18,
      "outputs": [
        {
          "output_type": "stream",
          "name": "stdout",
          "text": [
            "access_test: 0.005 ms\n",
            "insert_test: 96.567 ms\n",
            "delete_test: 40.941 ms\n"
          ]
        }
      ]
    }
  ]
}