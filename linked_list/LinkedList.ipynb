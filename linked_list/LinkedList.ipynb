{
  "nbformat": 4,
  "nbformat_minor": 0,
  "metadata": {
    "colab": {
      "provenance": []
    },
    "kernelspec": {
      "name": "python3",
      "display_name": "Python 3"
    },
    "language_info": {
      "name": "python"
    }
  },
  "cells": [
    {
      "cell_type": "markdown",
      "source": [
        "# implementation"
      ],
      "metadata": {
        "id": "LkkrrKomx3f1"
      }
    },
    {
      "cell_type": "code",
      "execution_count": 8,
      "metadata": {
        "id": "nSS-K6ydxx5_"
      },
      "outputs": [],
      "source": [
        "class Node:\n",
        "    def __init__(self, data):\n",
        "        self.data = data\n",
        "        self.next = None\n",
        "\n",
        "class LinkedList:\n",
        "    def __init__(self):\n",
        "        self.head = None\n",
        "\n",
        "    def insert_at_end(self, val):\n",
        "        self.insert_at_index(self.get_size(), val)\n",
        "\n",
        "    def insert_at_index(self, index, val):\n",
        "        new_node = Node(val)\n",
        "        if index == 0:\n",
        "            new_node.next = self.head\n",
        "            self.head = new_node\n",
        "            return\n",
        "\n",
        "        temp = self.head\n",
        "        for _ in range(index - 1):\n",
        "            if not temp:\n",
        "                print(\"Index out of bounds\")\n",
        "                return\n",
        "            temp = temp.next\n",
        "\n",
        "        if not temp:\n",
        "            print(\"Index out of bounds\")\n",
        "            return\n",
        "\n",
        "        new_node.next = temp.next\n",
        "        temp.next = new_node\n",
        "\n",
        "    def delete_at_index(self, index):\n",
        "        if index < 0 or not self.head:\n",
        "            return\n",
        "\n",
        "        if index == 0:\n",
        "            self.head = self.head.next\n",
        "            return\n",
        "\n",
        "        temp = self.head\n",
        "        for _ in range(index - 1):\n",
        "            if not temp or not temp.next:\n",
        "                print(\"Index out of bounds\")\n",
        "                return\n",
        "            temp = temp.next\n",
        "\n",
        "        if not temp.next:\n",
        "            print(\"Index out of bounds\")\n",
        "            return\n",
        "\n",
        "        temp.next = temp.next.next\n",
        "\n",
        "    def find_indices(self, val):\n",
        "        indices = []\n",
        "        temp = self.head\n",
        "        idx = 0\n",
        "        while temp:\n",
        "            if temp.data == val:\n",
        "                indices.append(idx)\n",
        "            temp = temp.next\n",
        "            idx += 1\n",
        "        return indices\n",
        "\n",
        "    def get_size(self):\n",
        "        count = 0\n",
        "        temp = self.head\n",
        "        while temp:\n",
        "            count += 1\n",
        "            temp = temp.next\n",
        "        return count\n",
        "\n",
        "    def display(self):\n",
        "        temp = self.head\n",
        "        while temp:\n",
        "            print(f\"{temp.data} -> \", end=\"\")\n",
        "            temp = temp.next\n",
        "        print(\"NULL\")"
      ]
    },
    {
      "cell_type": "markdown",
      "source": [
        "# test cases"
      ],
      "metadata": {
        "id": "pFN7HtYnx-9H"
      }
    },
    {
      "cell_type": "markdown",
      "source": [
        "| Function            | Time Complexity |\n",
        "| ------------------- | --------------- |\n",
        "| `insert_at_end()`   | O(n)            |\n",
        "| `insert_at_index()` | O(n)            |\n",
        "| `delete_at_index()` | O(n)            |\n",
        "| `find_indices()`    | O(n)            |\n",
        "| `get_size()`        | O(n)            |\n",
        "| `display()`         | O(n)            |\n",
        "\n"
      ],
      "metadata": {
        "id": "MhlNw8bJJ6XY"
      }
    },
    {
      "cell_type": "code",
      "source": [
        "ll = LinkedList()\n",
        "\n",
        "# Insert at end\n",
        "ll.insert_at_end(10)\n",
        "ll.insert_at_end(20)\n",
        "ll.insert_at_end(30)\n",
        "ll.insert_at_end(20)\n",
        "ll.insert_at_end(50)\n",
        "print(\"Initial list:\")\n",
        "ll.display()\n",
        "\n",
        "# Insert at index\n",
        "print(\"Insert 99 at index 2:\")\n",
        "ll.insert_at_index(2, 99)\n",
        "ll.display()\n",
        "\n",
        "# Delete at index\n",
        "print(\"Delete at index 3:\")\n",
        "ll.delete_at_index(3)\n",
        "ll.display()\n",
        "\n",
        "# Find indices\n",
        "print(\"Find indices of value 20:\")\n",
        "indices = ll.find_indices(20)\n",
        "print(indices)  # [1, 3]\n"
      ],
      "metadata": {
        "colab": {
          "base_uri": "https://localhost:8080/"
        },
        "id": "6UzPk8_wJd2Y",
        "outputId": "33d7d0a7-b444-454f-8933-de506d130b60"
      },
      "execution_count": 9,
      "outputs": [
        {
          "output_type": "stream",
          "name": "stdout",
          "text": [
            "Initial list:\n",
            "10 -> 20 -> 30 -> 20 -> 50 -> NULL\n",
            "Insert 99 at index 2:\n",
            "10 -> 20 -> 99 -> 30 -> 20 -> 50 -> NULL\n",
            "Delete at index 3:\n",
            "10 -> 20 -> 99 -> 20 -> 50 -> NULL\n",
            "Find indices of value 20:\n",
            "[1, 3]\n"
          ]
        }
      ]
    }
  ]
}