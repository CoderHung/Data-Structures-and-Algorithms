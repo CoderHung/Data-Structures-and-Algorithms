{
  "cells": [
    {
      "cell_type": "markdown",
      "metadata": {
        "id": "LkkrrKomx3f1"
      },
      "source": [
        "# implementation"
      ]
    },
    {
      "cell_type": "code",
      "execution_count": 2,
      "metadata": {
        "id": "nSS-K6ydxx5_"
      },
      "outputs": [],
      "source": [
        "class WeightedDirectedGraph:\n",
        "    def __init__(self):\n",
        "        self.nodes = []  # Each node is a dict: {'value': int, 'edges': {neighbor_id: weight}}\n",
        "\n",
        "    def add_node(self, value):\n",
        "        self.nodes.append({'value': value, 'edges': {}})\n",
        "        return len(self.nodes) - 1\n",
        "\n",
        "    def add_edge(self, src, dest, weight):\n",
        "        if src < 0 or dest < 0 or src >= len(self.nodes) or dest >= len(self.nodes):\n",
        "            print(\"Invalid node ID\")\n",
        "            return\n",
        "        self.nodes[src]['edges'][dest] = weight\n",
        "\n",
        "    def get_node_value(self, node_id):\n",
        "        if node_id < 0 or node_id >= len(self.nodes):\n",
        "            print(\"Invalid node ID\")\n",
        "            return None\n",
        "        return self.nodes[node_id]['value']\n",
        "\n",
        "    def get_edge_info(self, u, v):\n",
        "        if u < 0 or v < 0 or u >= len(self.nodes) or v >= len(self.nodes):\n",
        "            print(\"Invalid node IDs\")\n",
        "            return\n",
        "\n",
        "        found = False\n",
        "        if v in self.nodes[u]['edges']:\n",
        "            print(f\"Edge from {u} → {v} with weight {self.nodes[u]['edges'][v]}\")\n",
        "            found = True\n",
        "        if u in self.nodes[v]['edges']:\n",
        "            print(f\"Edge from {v} → {u} with weight {self.nodes[v]['edges'][u]}\")\n",
        "            found = True\n",
        "        if not found:\n",
        "            print(f\"No edge exists between {u} and {v}\")\n",
        "\n",
        "    def show_connections(self):\n",
        "        for i, node in enumerate(self.nodes):\n",
        "            neighbors = \" \".join(f\"{k}({v})\" for k, v in node['edges'].items())\n",
        "            print(f\"{i} -->> {neighbors}\")\n",
        "\n",
        "    def get_num_nodes(self):\n",
        "        return len(self.nodes)\n",
        "\n",
        "    def has_cycle(self):\n",
        "        def dfs(u, visited, rec_stack):\n",
        "            visited[u] = True\n",
        "            rec_stack[u] = True\n",
        "            for v in self.nodes[u]['edges']:\n",
        "                if not visited[v] and dfs(v, visited, rec_stack):\n",
        "                    return True\n",
        "                elif rec_stack[v]:\n",
        "                    return True\n",
        "            rec_stack[u] = False\n",
        "            return False\n",
        "\n",
        "        n = len(self.nodes)\n",
        "        visited = [False] * n\n",
        "        rec_stack = [False] * n\n",
        "        for i in range(n):\n",
        "            if not visited[i]:\n",
        "                if dfs(i, visited, rec_stack):\n",
        "                    return True\n",
        "        return False\n",
        "\n"
      ]
    },
    {
      "cell_type": "markdown",
      "metadata": {
        "id": "pFN7HtYnx-9H"
      },
      "source": [
        "# test cases"
      ]
    },
    {
      "cell_type": "markdown",
      "metadata": {
        "id": "MhlNw8bJJ6XY"
      },
      "source": [
        "| Operation          | Time Complexity |\n",
        "| ------------------ | --------------- |\n",
        "| `add_node()`       | O(1)            |\n",
        "| `add_edge()`       | O(1) (avg)      |\n",
        "| `get_node_value`   | O(1)            |\n",
        "| `get_edge_info`    | O(1)            |\n",
        "| `show_connections` | O(n + e)        |\n",
        "| `get_num_nodes`    | O(1)            |\n",
        "| `has_cycle()`      | O(n + e)        |\n"
      ]
    },
    {
      "cell_type": "code",
      "execution_count": 3,
      "metadata": {
        "colab": {
          "base_uri": "https://localhost:8080/"
        },
        "id": "6UzPk8_wJd2Y",
        "outputId": "8b54927a-a0af-4ded-db10-f37013d975df"
      },
      "outputs": [
        {
          "name": "stdout",
          "output_type": "stream",
          "text": [
            "Graph with cycle:\n",
            "0 -->> 1(5)\n",
            "1 -->> 2(7)\n",
            "2 -->> 0(3)\n",
            "\n",
            "Checking for cycle...\n",
            "Cycle detected \n",
            "\n",
            "Graph without cycle:\n",
            "0 -->> 1(1)\n",
            "1 -->> 2(1)\n",
            "2 -->> \n",
            "Checking for cycle...\n",
            "No cycle \n"
          ]
        }
      ],
      "source": [
        "# Graph with a cycle\n",
        "g = WeightedDirectedGraph()\n",
        "a = g.add_node(10)\n",
        "b = g.add_node(20)\n",
        "c = g.add_node(30)\n",
        "\n",
        "g.add_edge(a, b, 5)\n",
        "g.add_edge(b, c, 7)\n",
        "g.add_edge(c, a, 3)  # creates a cycle\n",
        "\n",
        "print(\"Graph with cycle:\")\n",
        "g.show_connections()\n",
        "\n",
        "print(\"\\nChecking for cycle...\")\n",
        "print(\"Cycle detected \" if g.has_cycle() else \"No cycle \")\n",
        "\n",
        "# Graph without a cycle\n",
        "g2 = WeightedDirectedGraph()\n",
        "x = g2.add_node(1)\n",
        "y = g2.add_node(2)\n",
        "z = g2.add_node(3)\n",
        "\n",
        "g2.add_edge(x, y, 1)\n",
        "g2.add_edge(y, z, 1)\n",
        "\n",
        "print(\"\\nGraph without cycle:\")\n",
        "g2.show_connections()\n",
        "\n",
        "print(\"Checking for cycle...\")\n",
        "print(\"Cycle detected \" if g2.has_cycle() else \"No cycle \")\n"
      ]
    }
  ],
  "metadata": {
    "colab": {
      "provenance": []
    },
    "kernelspec": {
      "display_name": "Python 3",
      "name": "python3"
    },
    "language_info": {
      "codemirror_mode": {
        "name": "ipython",
        "version": 3
      },
      "file_extension": ".py",
      "mimetype": "text/x-python",
      "name": "python",
      "nbconvert_exporter": "python",
      "pygments_lexer": "ipython3",
      "version": "3.13.5"
    }
  },
  "nbformat": 4,
  "nbformat_minor": 0
}
