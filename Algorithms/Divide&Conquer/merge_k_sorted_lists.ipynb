{
 "cells": [
  {
   "cell_type": "code",
   "execution_count": 3,
   "id": "0e7f1dd9",
   "metadata": {},
   "outputs": [],
   "source": [
    "def merge_two_lists(l1, l2):\n",
    "    result = []\n",
    "    i = j = 0\n",
    "    while i < len(l1) and j < len(l2):\n",
    "        if l1[i] < l2[j]:\n",
    "            result.append(l1[i])\n",
    "            i += 1\n",
    "        else:\n",
    "            result.append(l2[j])\n",
    "            j += 1\n",
    "    result.extend(l1[i:])\n",
    "    result.extend(l2[j:])\n",
    "    return result\n",
    "\n",
    "def merge_k_lists(lists):\n",
    "    if not lists:\n",
    "        return []\n",
    "    if len(lists) == 1:\n",
    "        return lists[0]\n",
    "\n",
    "    mid = len(lists) // 2\n",
    "    left = merge_k_lists(lists[:mid])\n",
    "    right = merge_k_lists(lists[mid:])\n",
    "    return merge_two_lists(left, right)\n"
   ]
  },
  {
   "cell_type": "code",
   "execution_count": 4,
   "id": "5d25b754",
   "metadata": {},
   "outputs": [
    {
     "name": "stdout",
     "output_type": "stream",
     "text": [
      "[1, 1, 2, 3, 4, 4, 5, 6]\n"
     ]
    }
   ],
   "source": [
    "lists = [[1,4,5], [1,3,4], [2,6]]\n",
    "print(merge_k_lists(lists))  "
   ]
  },
  {
   "cell_type": "code",
   "execution_count": 5,
   "id": "f1e81e64",
   "metadata": {},
   "outputs": [
    {
     "name": "stdout",
     "output_type": "stream",
     "text": [
      "[1, 2, 3, 4, 5, 6, 7, 8, 9, 10, 11, 12, 13, 14, 15]\n"
     ]
    }
   ],
   "source": [
    "lists = [[1,2,3,4,5], [6,7,8,9,10], [11,12,13,14,15]]\n",
    "print(merge_k_lists(lists))"
   ]
  }
 ],
 "metadata": {
  "kernelspec": {
   "display_name": "Python 3",
   "language": "python",
   "name": "python3"
  },
  "language_info": {
   "codemirror_mode": {
    "name": "ipython",
    "version": 3
   },
   "file_extension": ".py",
   "mimetype": "text/x-python",
   "name": "python",
   "nbconvert_exporter": "python",
   "pygments_lexer": "ipython3",
   "version": "3.13.5"
  }
 },
 "nbformat": 4,
 "nbformat_minor": 5
}
