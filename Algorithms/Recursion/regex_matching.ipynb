{
 "cells": [
  {
   "attachments": {
    "{D5C48352-5DBB-44A1-BD7A-EDCFB6A46DA0}.png": {
     "image/png": "[encoded data removed]"
    }
   },
   "cell_type": "markdown",
   "id": "23dafdde",
   "metadata": {},
   "source": [
    "![{D5C48352-5DBB-44A1-BD7A-EDCFB6A46DA0}.png](attachment:{D5C48352-5DBB-44A1-BD7A-EDCFB6A46DA0}.png)"
   ]
  },
  {
   "cell_type": "code",
   "execution_count": 2,
   "id": "444882f7",
   "metadata": {},
   "outputs": [],
   "source": [
    "def isMatch(s, p):\n",
    "        i, j = len(s) - 1, len(p) - 1\n",
    "        return backtrack({}, s, p, i, j)\n",
    "\n",
    "def backtrack(cache, s, p, i, j):\n",
    "        key = (i, j)\n",
    "        if key in cache:\n",
    "            return cache[key]\n",
    "\n",
    "        if i == -1 and j == -1:\n",
    "            cache[key] = True\n",
    "            return True\n",
    "\n",
    "        if i != -1 and j == -1:\n",
    "            cache[key] = False\n",
    "            return cache[key]\n",
    "\n",
    "        if i == -1 and p[j] == '*':\n",
    "            k = j\n",
    "            while k != -1 and p[k] == '*':\n",
    "                k -= 2\n",
    "            \n",
    "            if k == -1:\n",
    "                cache[key] = True\n",
    "                return cache[key]\n",
    "            \n",
    "            cache[key] = False\n",
    "            return cache[key]\n",
    "        \n",
    "        if i == -1 and p[j] != '*':\n",
    "            cache[key] = False\n",
    "            return cache[key]\n",
    "\n",
    "        if p[j] == '*':\n",
    "            if backtrack(cache, s, p, i, j - 2):\n",
    "                cache[key] = True\n",
    "                return cache[key]\n",
    "            \n",
    "            if p[j - 1] == s[i] or p[j - 1] == '.':\n",
    "                if backtrack(cache, s, p, i - 1, j):\n",
    "                    cache[key] = True\n",
    "                    return cache[key]\n",
    "        \n",
    "        if p[j] == '.' or s[i] == p[j]:\n",
    "            if backtrack(cache, s, p, i - 1, j - 1):\n",
    "                cache[key] = True\n",
    "                return cache[key]\n",
    "\n",
    "        cache[key] = False\n",
    "        return cache[key]"
   ]
  },
  {
   "cell_type": "code",
   "execution_count": 4,
   "id": "6b1fd8c9",
   "metadata": {},
   "outputs": [
    {
     "data": {
      "text/plain": [
       "True"
      ]
     },
     "execution_count": 4,
     "metadata": {},
     "output_type": "execute_result"
    }
   ],
   "source": [
    "isMatch(\"aab\", \"c*a*b\")  "
   ]
  },
  {
   "cell_type": "code",
   "execution_count": 3,
   "id": "488f57e5",
   "metadata": {},
   "outputs": [
    {
     "name": "stdout",
     "output_type": "stream",
     "text": [
      "All tests passed.\n"
     ]
    }
   ],
   "source": [
    "def test_isMatch():\n",
    "    assert isMatch(\"aa\", \"a\") == False\n",
    "    assert isMatch(\"aa\", \"a*\") == True\n",
    "    assert isMatch(\"ab\", \".*\") == True\n",
    "    assert isMatch(\"aab\", \"c*a*b\") == True\n",
    "    assert isMatch(\"mississippi\", \"mis*is*p*.\") == False\n",
    "    assert isMatch(\"\", \".*\") == True\n",
    "    assert isMatch(\"\", \"\") == True\n",
    "    assert isMatch(\"abc\", \"abc\") == True\n",
    "    assert isMatch(\"abc\", \"a.c\") == True\n",
    "    assert isMatch(\"aaa\", \"a*a\") == True\n",
    "    assert isMatch(\"aaa\", \"ab*a*c*a\") == True\n",
    "    assert isMatch(\"mississippi\", \"mis*is*ip*.\") == True\n",
    "    print(\"All tests passed.\")\n",
    "\n",
    "test_isMatch()\n"
   ]
  }
 ],
 "metadata": {
  "kernelspec": {
   "display_name": "Python 3",
   "language": "python",
   "name": "python3"
  },
  "language_info": {
   "codemirror_mode": {
    "name": "ipython",
    "version": 3
   },
   "file_extension": ".py",
   "mimetype": "text/x-python",
   "name": "python",
   "nbconvert_exporter": "python",
   "pygments_lexer": "ipython3",
   "version": "3.13.5"
  }
 },
 "nbformat": 4,
 "nbformat_minor": 5
}
