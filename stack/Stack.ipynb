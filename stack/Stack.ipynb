{
  "nbformat": 4,
  "nbformat_minor": 0,
  "metadata": {
    "colab": {
      "provenance": []
    },
    "kernelspec": {
      "name": "python3",
      "display_name": "Python 3"
    },
    "language_info": {
      "name": "python"
    }
  },
  "cells": [
    {
      "cell_type": "markdown",
      "source": [
        "# implementation"
      ],
      "metadata": {
        "id": "LkkrrKomx3f1"
      }
    },
    {
      "cell_type": "code",
      "execution_count": 12,
      "metadata": {
        "id": "nSS-K6ydxx5_"
      },
      "outputs": [],
      "source": [
        "class Node:\n",
        "    def __init__(self, data):\n",
        "        self.data = data\n",
        "        self.next = None\n",
        "\n",
        "class Stack:\n",
        "    def __init__(self):\n",
        "        self.top = None\n",
        "\n",
        "    def push(self, val):\n",
        "        new_node = Node(val)\n",
        "        new_node.next = self.top\n",
        "        self.top = new_node\n",
        "\n",
        "    def pop(self):\n",
        "        if not self.top:\n",
        "            print(\"Stack is empty\")\n",
        "            return\n",
        "        self.top = self.top.next\n",
        "\n",
        "    def peek(self):\n",
        "        if not self.top:\n",
        "            print(\"Stack is empty\")\n",
        "            return None\n",
        "        return self.top.data\n",
        "\n",
        "    def is_empty(self):\n",
        "        return self.top is None\n"
      ]
    },
    {
      "cell_type": "markdown",
      "source": [
        "# test cases"
      ],
      "metadata": {
        "id": "pFN7HtYnx-9H"
      }
    },
    {
      "cell_type": "markdown",
      "source": [
        "push(val) → O(1) (add to head)\n",
        "\n",
        "pop() → O(1) (remove from head)\n",
        "\n",
        "peek() → O(1) (access head)\n",
        "\n",
        "is_empty() → O(1)\n"
      ],
      "metadata": {
        "id": "MhlNw8bJJ6XY"
      }
    },
    {
      "cell_type": "code",
      "source": [
        "s = Stack()\n",
        "s.push(10)\n",
        "s.push(20)\n",
        "print(s.peek())  # 20\n",
        "s.pop()\n",
        "print(s.peek())  # 10\n",
        "s.pop()\n",
        "s.pop()  # Stack is empty\n",
        "\n",
        "\n"
      ],
      "metadata": {
        "colab": {
          "base_uri": "https://localhost:8080/"
        },
        "id": "6UzPk8_wJd2Y",
        "outputId": "3937a0e7-9d73-4e0b-e222-9d749aacedee"
      },
      "execution_count": 13,
      "outputs": [
        {
          "output_type": "stream",
          "name": "stdout",
          "text": [
            "20\n",
            "10\n",
            "Stack is empty\n"
          ]
        }
      ]
    }
  ]
}