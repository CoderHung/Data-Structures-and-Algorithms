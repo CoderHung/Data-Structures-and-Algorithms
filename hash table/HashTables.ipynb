{
  "cells": [
    {
      "cell_type": "markdown",
      "metadata": {
        "id": "LkkrrKomx3f1"
      },
      "source": [
        "# implementation"
      ]
    },
    {
      "cell_type": "code",
      "execution_count": 5,
      "metadata": {
        "id": "nSS-K6ydxx5_"
      },
      "outputs": [],
      "source": [
        "class HashTable:\n",
        "    def __init__(self, size=10):\n",
        "        self.SIZE = size\n",
        "        self.table = [[] for _ in range(self.SIZE)]\n",
        "\n",
        "    def hash_function(self, key):\n",
        "        hash_value = 0\n",
        "        for c in key:\n",
        "            hash_value = (hash_value * 31 + ord(c)) % self.SIZE\n",
        "        return hash_value\n",
        "\n",
        "    def insert(self, key, value):\n",
        "        index = self.hash_function(key)\n",
        "        for i, (k, v) in enumerate(self.table[index]):\n",
        "            if k == key:\n",
        "                self.table[index][i] = (key, value)  # update\n",
        "                return\n",
        "        self.table[index].append((key, value))  # insert\n",
        "\n",
        "    def get(self, key):\n",
        "        index = self.hash_function(key)\n",
        "        for k, v in self.table[index]:\n",
        "            if k == key:\n",
        "                return v\n",
        "        return None\n",
        "\n",
        "    def remove(self, key):\n",
        "        index = self.hash_function(key)\n",
        "        for i, (k, _) in enumerate(self.table[index]):\n",
        "            if k == key:\n",
        "                del self.table[index][i]\n",
        "                return\n",
        "\n",
        "    def print_table(self):\n",
        "        for i, bucket in enumerate(self.table):\n",
        "            print(f\"{i}:\", end=\" \")\n",
        "            for k, v in bucket:\n",
        "                print(f\"[{k} : {v}]\", end=\" \")\n",
        "            print()\n"
      ]
    },
    {
      "cell_type": "markdown",
      "metadata": {
        "id": "pFN7HtYnx-9H"
      },
      "source": [
        "# test cases"
      ]
    },
    {
      "cell_type": "markdown",
      "metadata": {
        "id": "MhlNw8bJJ6XY"
      },
      "source": [
        "| Operation       | Avg Case | Worst Case |\n",
        "| --------------- | -------- | ---------- |\n",
        "| `insert`        | O(1)     | O(n)       |\n",
        "| `get`           | O(1)     | O(n)       |\n",
        "| `remove`        | O(1)     | O(n)       |\n",
        "| `print_table`   | O(n)     | O(n)       |\n",
        "| `hash_function` | O(m)     | O(m)       |\n"
      ]
    },
    {
      "cell_type": "code",
      "execution_count": 6,
      "metadata": {
        "colab": {
          "base_uri": "https://localhost:8080/"
        },
        "id": "6UzPk8_wJd2Y",
        "outputId": "52fa1aba-fcbb-434b-ed1b-82aa5339d8c2"
      },
      "outputs": [
        {
          "name": "stdout",
          "output_type": "stream",
          "text": [
            "apple: 99\n",
            "\n",
            "Hash Table:\n",
            "0: [apple : 99] \n",
            "1: \n",
            "2: \n",
            "3: \n",
            "4: [abc : 1] [acb : 2] [bac : 3] [bca : 4] [cab : 5] [cba : 6] \n",
            "5: \n",
            "6: \n",
            "7: [grape : 30] \n",
            "8: \n",
            "9: \n"
          ]
        }
      ],
      "source": [
        "ht = HashTable()\n",
        "\n",
        "ht.insert(\"apple\", 10)\n",
        "ht.insert(\"banana\", 20)\n",
        "ht.insert(\"grape\", 30)\n",
        "ht.insert(\"apple\", 99)  # update\n",
        "\n",
        "value = ht.get(\"apple\")\n",
        "if value is not None:\n",
        "    print(\"apple:\", value)\n",
        "\n",
        "ht.remove(\"banana\")\n",
        "\n",
        "# Insert keys that may collide\n",
        "for word, val in zip([\"abc\", \"acb\", \"bac\", \"bca\", \"cab\", \"cba\"], range(1, 7)):\n",
        "    ht.insert(word, val)\n",
        "\n",
        "print(\"\\nHash Table:\")\n",
        "ht.print_table()\n",
        "\n"
      ]
    }
  ],
  "metadata": {
    "colab": {
      "provenance": []
    },
    "kernelspec": {
      "display_name": "Python 3",
      "name": "python3"
    },
    "language_info": {
      "name": "python"
    }
  },
  "nbformat": 4,
  "nbformat_minor": 0
}
