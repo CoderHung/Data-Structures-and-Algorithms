{
 "cells": [
  {
   "cell_type": "code",
   "execution_count": 1,
   "id": "3e4e9749",
   "metadata": {},
   "outputs": [
    {
     "name": "stdout",
     "output_type": "stream",
     "text": [
      "5\n",
      "3\n"
     ]
    }
   ],
   "source": [
    "add = lambda x, y: x + y\n",
    "print(add(2, 3))  # 5\n",
    "subtract = lambda x, y: x - y\n",
    "print(subtract(5, 2))  # 3"
   ]
  },
  {
   "cell_type": "code",
   "execution_count": 2,
   "id": "54d70ef4",
   "metadata": {},
   "outputs": [
    {
     "name": "stdout",
     "output_type": "stream",
     "text": [
      "[1, 4, 9, 16]\n"
     ]
    }
   ],
   "source": [
    "nums = [1, 2, 3, 4]\n",
    "squared = list(map(lambda x: x**2, nums))\n",
    "print(squared) "
   ]
  },
  {
   "cell_type": "code",
   "execution_count": 3,
   "id": "e02439cb",
   "metadata": {},
   "outputs": [
    {
     "name": "stdout",
     "output_type": "stream",
     "text": [
      "[8, 12]\n"
     ]
    }
   ],
   "source": [
    "nums = [1, 5, 8, 12]\n",
    "evens = list(filter(lambda x: x % 2 == 0, nums))\n",
    "print(evens)  "
   ]
  },
  {
   "cell_type": "code",
   "execution_count": 4,
   "id": "c2cd6863",
   "metadata": {},
   "outputs": [
    {
     "name": "stdout",
     "output_type": "stream",
     "text": [
      "[('Bob', 20), ('Alice', 25), ('Eve', 30)]\n"
     ]
    }
   ],
   "source": [
    "people = [('Alice', 25), ('Bob', 20), ('Eve', 30)]\n",
    "sorted_by_age = sorted(people, key=lambda x: x[1])\n",
    "print(sorted_by_age)  "
   ]
  },
  {
   "cell_type": "code",
   "execution_count": 6,
   "id": "93ec01b6",
   "metadata": {},
   "outputs": [
    {
     "name": "stdout",
     "output_type": "stream",
     "text": [
      "24\n"
     ]
    }
   ],
   "source": [
    "from functools import reduce\n",
    "product = reduce(lambda x, y: x * y, [1, 2, 3, 4])\n",
    "print(product)  "
   ]
  },
  {
   "cell_type": "code",
   "execution_count": null,
   "id": "dc11247f",
   "metadata": {},
   "outputs": [
    {
     "name": "stdout",
     "output_type": "stream",
     "text": [
      "36\n"
     ]
    }
   ],
   "source": [
    "def apply_fn(f, x):\n",
    "    return f(x)\n",
    "\n",
    "print(apply_fn(lambda n: n * n, 6))  "
   ]
  }
 ],
 "metadata": {
  "kernelspec": {
   "display_name": "Python 3",
   "language": "python",
   "name": "python3"
  },
  "language_info": {
   "codemirror_mode": {
    "name": "ipython",
    "version": 3
   },
   "file_extension": ".py",
   "mimetype": "text/x-python",
   "name": "python",
   "nbconvert_exporter": "python",
   "pygments_lexer": "ipython3",
   "version": "3.13.5"
  }
 },
 "nbformat": 4,
 "nbformat_minor": 5
}
