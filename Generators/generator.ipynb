{
 "cells": [
  {
   "cell_type": "code",
   "execution_count": 1,
   "id": "6442e533",
   "metadata": {},
   "outputs": [
    {
     "name": "stdout",
     "output_type": "stream",
     "text": [
      "0\n",
      "1\n",
      "2\n",
      "3\n",
      "4\n",
      "5\n",
      "6\n",
      "7\n",
      "8\n",
      "9\n"
     ]
    }
   ],
   "source": [
    "def listGen():\n",
    "    for i in range(10):\n",
    "        yield i\n",
    "        \n",
    "for i in listGen():\n",
    "    print(i)"
   ]
  },
  {
   "cell_type": "code",
   "execution_count": 3,
   "id": "ef2d285b",
   "metadata": {},
   "outputs": [
    {
     "name": "stdout",
     "output_type": "stream",
     "text": [
      "<generator object <genexpr> at 0x00000292C17FCAC0>\n"
     ]
    }
   ],
   "source": [
    "a = (i for i in range(10))\n",
    "print(a)"
   ]
  },
  {
   "cell_type": "code",
   "execution_count": 4,
   "id": "fdbace40",
   "metadata": {},
   "outputs": [
    {
     "name": "stdout",
     "output_type": "stream",
     "text": [
      "0\n",
      "1\n",
      "2\n",
      "3\n",
      "4\n",
      "5\n",
      "6\n",
      "7\n",
      "8\n",
      "9\n"
     ]
    }
   ],
   "source": [
    "for i in a:\n",
    "    print(i)"
   ]
  },
  {
   "cell_type": "code",
   "execution_count": 5,
   "id": "4ed82755",
   "metadata": {},
   "outputs": [
    {
     "name": "stdout",
     "output_type": "stream",
     "text": [
      "<generator object generator_fn at 0x00000292C1A04450>\n",
      "check\n",
      "****\n",
      "0\n",
      "####\n",
      "****\n",
      "2\n",
      "####\n",
      "****\n",
      "4\n"
     ]
    }
   ],
   "source": [
    "def generator_fn(num):\n",
    "    print(\"check\")\n",
    "    #yield \n",
    "    for i in range(num):\n",
    "        print(\"****\")\n",
    "        yield i*2\n",
    "        print(\"####\")\n",
    "\n",
    "g = generator_fn(3)\n",
    "print(g)\n",
    "print(next(g))\n",
    "print(next(g))\n",
    "print(next(g))"
   ]
  },
  {
   "cell_type": "code",
   "execution_count": 6,
   "id": "32605ece",
   "metadata": {},
   "outputs": [
    {
     "name": "stdout",
     "output_type": "stream",
     "text": [
      "<list_iterator object at 0x00000292C19F6AA0>\n",
      "1\n",
      "<list_iterator object at 0x00000292C19F6AA0>\n",
      "2\n",
      "<list_iterator object at 0x00000292C19F6AA0>\n",
      "3\n",
      "<list_iterator object at 0x00000292C19F6AA0>\n",
      "4\n",
      "<list_iterator object at 0x00000292C19F6AA0>\n",
      "5\n",
      "<list_iterator object at 0x00000292C19F6AA0>\n"
     ]
    }
   ],
   "source": [
    "def my_own_forloop(iterable):\n",
    "    iterator = iter(iterable)\n",
    "    while True:\n",
    "        try:\n",
    "            print(iterator)\n",
    "            print(next(iterator))\n",
    "        except StopIteration:\n",
    "            break\n",
    "\n",
    "my_own_forloop([1,2,3,4,5])"
   ]
  }
 ],
 "metadata": {
  "kernelspec": {
   "display_name": "Python 3",
   "language": "python",
   "name": "python3"
  },
  "language_info": {
   "codemirror_mode": {
    "name": "ipython",
    "version": 3
   },
   "file_extension": ".py",
   "mimetype": "text/x-python",
   "name": "python",
   "nbconvert_exporter": "python",
   "pygments_lexer": "ipython3",
   "version": "3.13.5"
  }
 },
 "nbformat": 4,
 "nbformat_minor": 5
}
